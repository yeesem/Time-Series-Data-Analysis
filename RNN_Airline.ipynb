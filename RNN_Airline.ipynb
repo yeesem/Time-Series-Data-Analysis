{
  "nbformat": 4,
  "nbformat_minor": 0,
  "metadata": {
    "colab": {
      "provenance": [],
      "authorship_tag": "ABX9TyPFU8nYbahnTTm1gnJBpP0T",
      "include_colab_link": true
    },
    "kernelspec": {
      "name": "python3",
      "display_name": "Python 3"
    },
    "language_info": {
      "name": "python"
    }
  },
  "cells": [
    {
      "cell_type": "markdown",
      "metadata": {
        "id": "view-in-github",
        "colab_type": "text"
      },
      "source": [
        "<a href=\"https://colab.research.google.com/github/yeesem/Time-Series-Data-Analysis/blob/main/RNN_Airline.ipynb\" target=\"_parent\"><img src=\"https://colab.research.google.com/assets/colab-badge.svg\" alt=\"Open In Colab\"/></a>"
      ]
    },
    {
      "cell_type": "code",
      "execution_count": 7,
      "metadata": {
        "id": "XcsEQfVfiyjE"
      },
      "outputs": [],
      "source": [
        "import pandas as pd\n",
        "import numpy as np\n",
        "import matplotlib.pyplot as plt\n",
        "\n",
        "import tensorflow as tf\n",
        "from tensorflow.keras.layers import Dense,Input,GlobalMaxPooling1D,\\\n",
        "LSTM,GRU\n",
        "from tensorflow.keras.models import Model\n",
        "from tensorflow.keras.callbacks import ModelCheckpoint\n",
        "\n",
        "np.random.seed(0)\n",
        "tf.random.set_seed(0)"
      ]
    },
    {
      "cell_type": "code",
      "source": [
        "!pip install -U scikit-learn"
      ],
      "metadata": {
        "colab": {
          "base_uri": "https://localhost:8080/"
        },
        "id": "KMN4G7cejVd0",
        "outputId": "49daed66-b5b5-4870-dfd5-176eef4aad66"
      },
      "execution_count": 8,
      "outputs": [
        {
          "output_type": "stream",
          "name": "stdout",
          "text": [
            "Successfully installed scikit-learn-1.3.2\n"
          ]
        }
      ]
    },
    {
      "cell_type": "code",
      "source": [
        "from sklearn.metrics import mean_absolute_percentage_error"
      ],
      "metadata": {
        "id": "vqUnU5YEjp2V"
      },
      "execution_count": 9,
      "outputs": []
    },
    {
      "cell_type": "code",
      "source": [
        "!wget -nc https://lazyprogrammer.me/course_files/airline_passengers.csv"
      ],
      "metadata": {
        "id": "KwQh9rqgjsk_"
      },
      "execution_count": null,
      "outputs": []
    },
    {
      "cell_type": "code",
      "source": [
        "df = pd.read_csv(\"airline_passengers.csv\",index_col = 'Month',parse_dates = True)"
      ],
      "metadata": {
        "id": "eZsW6svxpJY2"
      },
      "execution_count": 11,
      "outputs": []
    },
    {
      "cell_type": "code",
      "source": [
        "df['LogPassengers'] = np.log(df['Passengers'])"
      ],
      "metadata": {
        "id": "i-DttkjOpUak"
      },
      "execution_count": 12,
      "outputs": []
    },
    {
      "cell_type": "code",
      "source": [
        "NTest = 12\n",
        "train = df.iloc[:-NTest]\n",
        "test = df.iloc[-NTest:]"
      ],
      "metadata": {
        "id": "pVrQpK3BpZb_"
      },
      "execution_count": 13,
      "outputs": []
    },
    {
      "cell_type": "code",
      "source": [
        "#Boolean series to index df rows\n",
        "train_idx = df.index <= train.index[-1]\n",
        "test_idx = ~train_idx"
      ],
      "metadata": {
        "id": "aEMnwh-bperS"
      },
      "execution_count": 14,
      "outputs": []
    },
    {
      "cell_type": "code",
      "source": [
        "df['DiffLogPassengers'] = df['LogPassengers'].diff()"
      ],
      "metadata": {
        "id": "UvdAX9x8pqKn"
      },
      "execution_count": 15,
      "outputs": []
    },
    {
      "cell_type": "code",
      "source": [
        "#Make supervised dataset\n",
        "series = df['DiffLogPassengers'].dropna().to_numpy()\n",
        "\n",
        "T = 10\n",
        "X = []\n",
        "Y = []\n",
        "\n",
        "for t in range(len(series) - T):\n",
        "  x = series[t : t + T]\n",
        "  X.append(x)\n",
        "  y = series[t + T]\n",
        "  Y.append(y)\n",
        "\n",
        "X = np.array(X).reshape(-1,T,1)\n",
        "Y = np.array(Y)\n",
        "N = len(X)\n",
        "\n",
        "print(\"X.shape: \",X.shape,\" Y shape: \",Y.shape)"
      ],
      "metadata": {
        "colab": {
          "base_uri": "https://localhost:8080/"
        },
        "id": "oqdydSKCpvuE",
        "outputId": "21a4b68f-fb4c-409e-fa77-ea61b359e6bc"
      },
      "execution_count": 16,
      "outputs": [
        {
          "output_type": "stream",
          "name": "stdout",
          "text": [
            "X.shape:  (133, 10, 1)  Y shape:  (133,)\n"
          ]
        }
      ]
    },
    {
      "cell_type": "code",
      "source": [
        "XTrain,YTrain = X[:-NTest],Y[:-NTest]\n",
        "XTest,YTest = X[-NTest:],Y[-NTest:]"
      ],
      "metadata": {
        "id": "qG_h8se8qYAg"
      },
      "execution_count": 17,
      "outputs": []
    },
    {
      "cell_type": "code",
      "source": [
        "#RNN\n",
        "i = Input(shape = (T,1))\n",
        "x = LSTM(24)(i)\n",
        "x = Dense(1)(x)\n",
        "\n",
        "model = Model(i,x)"
      ],
      "metadata": {
        "id": "jPTFNczkqipN"
      },
      "execution_count": 18,
      "outputs": []
    },
    {
      "cell_type": "code",
      "source": [
        "model.summary()"
      ],
      "metadata": {
        "colab": {
          "base_uri": "https://localhost:8080/"
        },
        "id": "n93wthqmq3CY",
        "outputId": "9177889e-c25f-4234-b4f0-f2375b70a23f"
      },
      "execution_count": 19,
      "outputs": [
        {
          "output_type": "stream",
          "name": "stdout",
          "text": [
            "Model: \"model\"\n",
            "_________________________________________________________________\n",
            " Layer (type)                Output Shape              Param #   \n",
            "=================================================================\n",
            " input_1 (InputLayer)        [(None, 10, 1)]           0         \n",
            "                                                                 \n",
            " lstm (LSTM)                 (None, 24)                2496      \n",
            "                                                                 \n",
            " dense (Dense)               (None, 1)                 25        \n",
            "                                                                 \n",
            "=================================================================\n",
            "Total params: 2521 (9.85 KB)\n",
            "Trainable params: 2521 (9.85 KB)\n",
            "Non-trainable params: 0 (0.00 Byte)\n",
            "_________________________________________________________________\n"
          ]
        }
      ]
    },
    {
      "cell_type": "code",
      "source": [
        "tf.keras.utils.plot_model(model)"
      ],
      "metadata": {
        "colab": {
          "base_uri": "https://localhost:8080/",
          "height": 272
        },
        "id": "ClcYsVCQq4i2",
        "outputId": "96c12735-9c4d-4721-a1cb-a76727656432"
      },
      "execution_count": 20,
      "outputs": [
        {
          "output_type": "execute_result",
          "data": {
            "image/png": "[encoded data removed]",
            "text/plain": [
              "<IPython.core.display.Image object>"
            ]
          },
          "metadata": {},
          "execution_count": 20
        }
      ]
    },
    {
      "cell_type": "code",
      "source": [
        "r = model.compile(\n",
        "    loss = 'mse',\n",
        "    optimizer = 'adam'\n",
        ")"
      ],
      "metadata": {
        "id": "2DJC9PSTq0WH"
      },
      "execution_count": 21,
      "outputs": []
    },
    {
      "cell_type": "code",
      "source": [
        "r = model.fit(\n",
        "    XTrain,\n",
        "    YTrain,\n",
        "    epochs = 100,\n",
        "    validation_data = (XTest,YTest)\n",
        ")"
      ],
      "metadata": {
        "colab": {
          "base_uri": "https://localhost:8080/"
        },
        "id": "SMJwv7KFrA8M",
        "outputId": "c45173a5-d18c-4b10-9887-48430add61e2"
      },
      "execution_count": 22,
      "outputs": [
        {
          "output_type": "stream",
          "name": "stdout",
          "text": [
            "Epoch 1/100\n",
            "4/4 [==============================] - 3s 265ms/step - loss: 0.0111 - val_loss: 0.0108\n",
            "Epoch 2/100\n",
            "4/4 [==============================] - 0s 23ms/step - loss: 0.0107 - val_loss: 0.0105\n",
            "Epoch 3/100\n",
            "4/4 [==============================] - 0s 21ms/step - loss: 0.0104 - val_loss: 0.0101\n",
            "Epoch 4/100\n",
            "4/4 [==============================] - 0s 20ms/step - loss: 0.0102 - val_loss: 0.0098\n",
            "Epoch 5/100\n",
            "4/4 [==============================] - 0s 22ms/step - loss: 0.0100 - val_loss: 0.0095\n",
            "Epoch 6/100\n",
            "4/4 [==============================] - 0s 21ms/step - loss: 0.0096 - val_loss: 0.0092\n",
            "Epoch 7/100\n",
            "4/4 [==============================] - 0s 22ms/step - loss: 0.0094 - val_loss: 0.0087\n",
            "Epoch 8/100\n",
            "4/4 [==============================] - 0s 22ms/step - loss: 0.0089 - val_loss: 0.0082\n",
            "Epoch 9/100\n",
            "4/4 [==============================] - 0s 31ms/step - loss: 0.0086 - val_loss: 0.0077\n",
            "Epoch 10/100\n",
            "4/4 [==============================] - 0s 24ms/step - loss: 0.0080 - val_loss: 0.0070\n",
            "Epoch 11/100\n",
            "4/4 [==============================] - 0s 22ms/step - loss: 0.0076 - val_loss: 0.0064\n",
            "Epoch 12/100\n",
            "4/4 [==============================] - 0s 22ms/step - loss: 0.0071 - val_loss: 0.0058\n",
            "Epoch 13/100\n",
            "4/4 [==============================] - 0s 21ms/step - loss: 0.0067 - val_loss: 0.0053\n",
            "Epoch 14/100\n",
            "4/4 [==============================] - 0s 20ms/step - loss: 0.0063 - val_loss: 0.0053\n",
            "Epoch 15/100\n",
            "4/4 [==============================] - 0s 19ms/step - loss: 0.0062 - val_loss: 0.0052\n",
            "Epoch 16/100\n",
            "4/4 [==============================] - 0s 20ms/step - loss: 0.0062 - val_loss: 0.0049\n",
            "Epoch 17/100\n",
            "4/4 [==============================] - 0s 20ms/step - loss: 0.0060 - val_loss: 0.0047\n",
            "Epoch 18/100\n",
            "4/4 [==============================] - 0s 23ms/step - loss: 0.0058 - val_loss: 0.0048\n",
            "Epoch 19/100\n",
            "4/4 [==============================] - 0s 21ms/step - loss: 0.0058 - val_loss: 0.0047\n",
            "Epoch 20/100\n",
            "4/4 [==============================] - 0s 20ms/step - loss: 0.0058 - val_loss: 0.0044\n",
            "Epoch 21/100\n",
            "4/4 [==============================] - 0s 26ms/step - loss: 0.0058 - val_loss: 0.0046\n",
            "Epoch 22/100\n",
            "4/4 [==============================] - 0s 31ms/step - loss: 0.0056 - val_loss: 0.0043\n",
            "Epoch 23/100\n",
            "4/4 [==============================] - 0s 22ms/step - loss: 0.0056 - val_loss: 0.0042\n",
            "Epoch 24/100\n",
            "4/4 [==============================] - 0s 21ms/step - loss: 0.0055 - val_loss: 0.0043\n",
            "Epoch 25/100\n",
            "4/4 [==============================] - 0s 24ms/step - loss: 0.0055 - val_loss: 0.0042\n",
            "Epoch 26/100\n",
            "4/4 [==============================] - 0s 28ms/step - loss: 0.0056 - val_loss: 0.0040\n",
            "Epoch 27/100\n",
            "4/4 [==============================] - 0s 21ms/step - loss: 0.0055 - val_loss: 0.0043\n",
            "Epoch 28/100\n",
            "4/4 [==============================] - 0s 20ms/step - loss: 0.0054 - val_loss: 0.0041\n",
            "Epoch 29/100\n",
            "4/4 [==============================] - 0s 21ms/step - loss: 0.0055 - val_loss: 0.0040\n",
            "Epoch 30/100\n",
            "4/4 [==============================] - 0s 27ms/step - loss: 0.0052 - val_loss: 0.0044\n",
            "Epoch 31/100\n",
            "4/4 [==============================] - 0s 21ms/step - loss: 0.0054 - val_loss: 0.0042\n",
            "Epoch 32/100\n",
            "4/4 [==============================] - 0s 27ms/step - loss: 0.0052 - val_loss: 0.0040\n",
            "Epoch 33/100\n",
            "4/4 [==============================] - 0s 26ms/step - loss: 0.0052 - val_loss: 0.0039\n",
            "Epoch 34/100\n",
            "4/4 [==============================] - 0s 23ms/step - loss: 0.0052 - val_loss: 0.0040\n",
            "Epoch 35/100\n",
            "4/4 [==============================] - 0s 22ms/step - loss: 0.0052 - val_loss: 0.0042\n",
            "Epoch 36/100\n",
            "4/4 [==============================] - 0s 24ms/step - loss: 0.0052 - val_loss: 0.0040\n",
            "Epoch 37/100\n",
            "4/4 [==============================] - 0s 21ms/step - loss: 0.0052 - val_loss: 0.0039\n",
            "Epoch 38/100\n",
            "4/4 [==============================] - 0s 20ms/step - loss: 0.0051 - val_loss: 0.0040\n",
            "Epoch 39/100\n",
            "4/4 [==============================] - 0s 21ms/step - loss: 0.0051 - val_loss: 0.0040\n",
            "Epoch 40/100\n",
            "4/4 [==============================] - 0s 15ms/step - loss: 0.0052 - val_loss: 0.0040\n",
            "Epoch 41/100\n",
            "4/4 [==============================] - 0s 16ms/step - loss: 0.0052 - val_loss: 0.0038\n",
            "Epoch 42/100\n",
            "4/4 [==============================] - 0s 15ms/step - loss: 0.0051 - val_loss: 0.0040\n",
            "Epoch 43/100\n",
            "4/4 [==============================] - 0s 15ms/step - loss: 0.0051 - val_loss: 0.0041\n",
            "Epoch 44/100\n",
            "4/4 [==============================] - 0s 16ms/step - loss: 0.0051 - val_loss: 0.0038\n",
            "Epoch 45/100\n",
            "4/4 [==============================] - 0s 17ms/step - loss: 0.0051 - val_loss: 0.0039\n",
            "Epoch 46/100\n",
            "4/4 [==============================] - 0s 15ms/step - loss: 0.0051 - val_loss: 0.0041\n",
            "Epoch 47/100\n",
            "4/4 [==============================] - 0s 15ms/step - loss: 0.0051 - val_loss: 0.0039\n",
            "Epoch 48/100\n",
            "4/4 [==============================] - 0s 19ms/step - loss: 0.0051 - val_loss: 0.0038\n",
            "Epoch 49/100\n",
            "4/4 [==============================] - 0s 16ms/step - loss: 0.0050 - val_loss: 0.0039\n",
            "Epoch 50/100\n",
            "4/4 [==============================] - 0s 14ms/step - loss: 0.0051 - val_loss: 0.0041\n",
            "Epoch 51/100\n",
            "4/4 [==============================] - 0s 15ms/step - loss: 0.0051 - val_loss: 0.0038\n",
            "Epoch 52/100\n",
            "4/4 [==============================] - 0s 15ms/step - loss: 0.0051 - val_loss: 0.0038\n",
            "Epoch 53/100\n",
            "4/4 [==============================] - 0s 14ms/step - loss: 0.0050 - val_loss: 0.0040\n",
            "Epoch 54/100\n",
            "4/4 [==============================] - 0s 14ms/step - loss: 0.0050 - val_loss: 0.0039\n",
            "Epoch 55/100\n",
            "4/4 [==============================] - 0s 14ms/step - loss: 0.0050 - val_loss: 0.0039\n",
            "Epoch 56/100\n",
            "4/4 [==============================] - 0s 15ms/step - loss: 0.0051 - val_loss: 0.0038\n",
            "Epoch 57/100\n",
            "4/4 [==============================] - 0s 15ms/step - loss: 0.0050 - val_loss: 0.0041\n",
            "Epoch 58/100\n",
            "4/4 [==============================] - 0s 15ms/step - loss: 0.0052 - val_loss: 0.0040\n",
            "Epoch 59/100\n",
            "4/4 [==============================] - 0s 16ms/step - loss: 0.0050 - val_loss: 0.0037\n",
            "Epoch 60/100\n",
            "4/4 [==============================] - 0s 16ms/step - loss: 0.0051 - val_loss: 0.0038\n",
            "Epoch 61/100\n",
            "4/4 [==============================] - 0s 15ms/step - loss: 0.0051 - val_loss: 0.0043\n",
            "Epoch 62/100\n",
            "4/4 [==============================] - 0s 15ms/step - loss: 0.0050 - val_loss: 0.0038\n",
            "Epoch 63/100\n",
            "4/4 [==============================] - 0s 16ms/step - loss: 0.0051 - val_loss: 0.0037\n",
            "Epoch 64/100\n",
            "4/4 [==============================] - 0s 17ms/step - loss: 0.0050 - val_loss: 0.0039\n",
            "Epoch 65/100\n",
            "4/4 [==============================] - 0s 18ms/step - loss: 0.0051 - val_loss: 0.0045\n",
            "Epoch 66/100\n",
            "4/4 [==============================] - 0s 15ms/step - loss: 0.0051 - val_loss: 0.0038\n",
            "Epoch 67/100\n",
            "4/4 [==============================] - 0s 15ms/step - loss: 0.0050 - val_loss: 0.0037\n",
            "Epoch 68/100\n",
            "4/4 [==============================] - 0s 15ms/step - loss: 0.0050 - val_loss: 0.0039\n",
            "Epoch 69/100\n",
            "4/4 [==============================] - 0s 17ms/step - loss: 0.0049 - val_loss: 0.0039\n",
            "Epoch 70/100\n",
            "4/4 [==============================] - 0s 15ms/step - loss: 0.0049 - val_loss: 0.0038\n",
            "Epoch 71/100\n",
            "4/4 [==============================] - 0s 15ms/step - loss: 0.0050 - val_loss: 0.0038\n",
            "Epoch 72/100\n",
            "4/4 [==============================] - 0s 15ms/step - loss: 0.0050 - val_loss: 0.0039\n",
            "Epoch 73/100\n",
            "4/4 [==============================] - 0s 15ms/step - loss: 0.0050 - val_loss: 0.0038\n",
            "Epoch 74/100\n",
            "4/4 [==============================] - 0s 16ms/step - loss: 0.0049 - val_loss: 0.0037\n",
            "Epoch 75/100\n",
            "4/4 [==============================] - 0s 18ms/step - loss: 0.0050 - val_loss: 0.0037\n",
            "Epoch 76/100\n",
            "4/4 [==============================] - 0s 15ms/step - loss: 0.0049 - val_loss: 0.0040\n",
            "Epoch 77/100\n",
            "4/4 [==============================] - 0s 15ms/step - loss: 0.0049 - val_loss: 0.0039\n",
            "Epoch 78/100\n",
            "4/4 [==============================] - 0s 15ms/step - loss: 0.0050 - val_loss: 0.0037\n",
            "Epoch 79/100\n",
            "4/4 [==============================] - 0s 14ms/step - loss: 0.0049 - val_loss: 0.0038\n",
            "Epoch 80/100\n",
            "4/4 [==============================] - 0s 16ms/step - loss: 0.0050 - val_loss: 0.0040\n",
            "Epoch 81/100\n",
            "4/4 [==============================] - 0s 16ms/step - loss: 0.0049 - val_loss: 0.0037\n",
            "Epoch 82/100\n",
            "4/4 [==============================] - 0s 15ms/step - loss: 0.0049 - val_loss: 0.0038\n",
            "Epoch 83/100\n",
            "4/4 [==============================] - 0s 16ms/step - loss: 0.0049 - val_loss: 0.0039\n",
            "Epoch 84/100\n",
            "4/4 [==============================] - 0s 15ms/step - loss: 0.0049 - val_loss: 0.0038\n",
            "Epoch 85/100\n",
            "4/4 [==============================] - 0s 15ms/step - loss: 0.0050 - val_loss: 0.0036\n",
            "Epoch 86/100\n",
            "4/4 [==============================] - 0s 14ms/step - loss: 0.0052 - val_loss: 0.0041\n",
            "Epoch 87/100\n",
            "4/4 [==============================] - 0s 14ms/step - loss: 0.0049 - val_loss: 0.0037\n",
            "Epoch 88/100\n",
            "4/4 [==============================] - 0s 14ms/step - loss: 0.0049 - val_loss: 0.0036\n",
            "Epoch 89/100\n",
            "4/4 [==============================] - 0s 14ms/step - loss: 0.0049 - val_loss: 0.0039\n",
            "Epoch 90/100\n",
            "4/4 [==============================] - 0s 15ms/step - loss: 0.0049 - val_loss: 0.0039\n",
            "Epoch 91/100\n",
            "4/4 [==============================] - 0s 15ms/step - loss: 0.0049 - val_loss: 0.0036\n",
            "Epoch 92/100\n",
            "4/4 [==============================] - 0s 16ms/step - loss: 0.0049 - val_loss: 0.0038\n",
            "Epoch 93/100\n",
            "4/4 [==============================] - 0s 14ms/step - loss: 0.0049 - val_loss: 0.0039\n",
            "Epoch 94/100\n",
            "4/4 [==============================] - 0s 14ms/step - loss: 0.0049 - val_loss: 0.0036\n",
            "Epoch 95/100\n",
            "4/4 [==============================] - 0s 15ms/step - loss: 0.0049 - val_loss: 0.0037\n",
            "Epoch 96/100\n",
            "4/4 [==============================] - 0s 14ms/step - loss: 0.0049 - val_loss: 0.0038\n",
            "Epoch 97/100\n",
            "4/4 [==============================] - 0s 15ms/step - loss: 0.0048 - val_loss: 0.0036\n",
            "Epoch 98/100\n",
            "4/4 [==============================] - 0s 15ms/step - loss: 0.0049 - val_loss: 0.0037\n",
            "Epoch 99/100\n",
            "4/4 [==============================] - 0s 20ms/step - loss: 0.0048 - val_loss: 0.0037\n",
            "Epoch 100/100\n",
            "4/4 [==============================] - 0s 15ms/step - loss: 0.0048 - val_loss: 0.0038\n"
          ]
        }
      ]
    },
    {
      "cell_type": "code",
      "source": [
        "plt.plot(r.history['loss'],label = 'train loss')\n",
        "plt.plot(r.history['val_loss'],label = 'test loss')\n",
        "plt.legend();"
      ],
      "metadata": {
        "colab": {
          "base_uri": "https://localhost:8080/",
          "height": 430
        },
        "id": "Rqi0kBXGrhNC",
        "outputId": "2ff2c068-d8bd-4d5d-9cf5-5dde40a1377a"
      },
      "execution_count": 23,
      "outputs": [
        {
          "output_type": "display_data",
          "data": {
            "text/plain": [
              "<Figure size 640x480 with 1 Axes>"
            ],
            "image/png": "[encoded data removed]"
          },
          "metadata": {}
        }
      ]
    }
  ]
}