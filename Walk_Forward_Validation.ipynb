{
  "nbformat": 4,
  "nbformat_minor": 0,
  "metadata": {
    "colab": {
      "provenance": [],
      "authorship_tag": "ABX9TyNzrhHK8Cn2UZE3RUSFDtTB",
      "include_colab_link": true
    },
    "kernelspec": {
      "name": "python3",
      "display_name": "Python 3"
    },
    "language_info": {
      "name": "python"
    }
  },
  "cells": [
    {
      "cell_type": "markdown",
      "metadata": {
        "id": "view-in-github",
        "colab_type": "text"
      },
      "source": [
        "<a href=\"https://colab.research.google.com/github/yeesem/Time-Series-Data-Analysis/blob/main/Walk_Forward_Validation.ipynb\" target=\"_parent\"><img src=\"https://colab.research.google.com/assets/colab-badge.svg\" alt=\"Open In Colab\"/></a>"
      ]
    },
    {
      "cell_type": "code",
      "execution_count": 1,
      "metadata": {
        "id": "Wx8Xd2LKI2ml",
        "colab": {
          "base_uri": "https://localhost:8080/"
        },
        "outputId": "4b87543d-8b6a-42f7-c2d4-0a76efb7199f"
      },
      "outputs": [
        {
          "output_type": "stream",
          "name": "stdout",
          "text": [
            "--2023-11-05 01:57:27--  https://lazyprogrammer.me/course_files/airline_passengers.csv\n",
            "Resolving lazyprogrammer.me (lazyprogrammer.me)... 104.21.23.210, 172.67.213.166, 2606:4700:3030::ac43:d5a6, ...\n",
            "Connecting to lazyprogrammer.me (lazyprogrammer.me)|104.21.23.210|:443... connected.\n",
            "HTTP request sent, awaiting response... 200 OK\n",
            "Length: 2036 (2.0K) [text/csv]\n",
            "Saving to: ‘airline_passengers.csv’\n",
            "\n",
            "airline_passengers. 100%[===================>]   1.99K  --.-KB/s    in 0s      \n",
            "\n",
            "2023-11-05 01:57:28 (36.9 MB/s) - ‘airline_passengers.csv’ saved [2036/2036]\n",
            "\n"
          ]
        }
      ],
      "source": [
        "!wget -nc https://lazyprogrammer.me/course_files/airline_passengers.csv"
      ]
    },
    {
      "cell_type": "code",
      "source": [
        "!pip install -U statsmodels"
      ],
      "metadata": {
        "id": "XlJmZubNNJas",
        "colab": {
          "base_uri": "https://localhost:8080/"
        },
        "outputId": "3aab0af2-9441-4f6c-ea4a-f2f9852ae9c8"
      },
      "execution_count": 2,
      "outputs": [
        {
          "output_type": "stream",
          "name": "stdout",
          "text": [
            "Requirement already satisfied: statsmodels in /usr/local/lib/python3.10/dist-packages (0.14.0)\n",
            "Requirement already satisfied: numpy>=1.18 in /usr/local/lib/python3.10/dist-packages (from statsmodels) (1.23.5)\n",
            "Requirement already satisfied: scipy!=1.9.2,>=1.4 in /usr/local/lib/python3.10/dist-packages (from statsmodels) (1.11.3)\n",
            "Requirement already satisfied: pandas>=1.0 in /usr/local/lib/python3.10/dist-packages (from statsmodels) (1.5.3)\n",
            "Requirement already satisfied: patsy>=0.5.2 in /usr/local/lib/python3.10/dist-packages (from statsmodels) (0.5.3)\n",
            "Requirement already satisfied: packaging>=21.3 in /usr/local/lib/python3.10/dist-packages (from statsmodels) (23.2)\n",
            "Requirement already satisfied: python-dateutil>=2.8.1 in /usr/local/lib/python3.10/dist-packages (from pandas>=1.0->statsmodels) (2.8.2)\n",
            "Requirement already satisfied: pytz>=2020.1 in /usr/local/lib/python3.10/dist-packages (from pandas>=1.0->statsmodels) (2023.3.post1)\n",
            "Requirement already satisfied: six in /usr/local/lib/python3.10/dist-packages (from patsy>=0.5.2->statsmodels) (1.16.0)\n"
          ]
        }
      ]
    },
    {
      "cell_type": "code",
      "source": [
        "import pandas as pd\n",
        "import numpy as np\n",
        "import matplotlib.pyplot as plt\n",
        "\n",
        "import itertools"
      ],
      "metadata": {
        "id": "nkajyZmmNRPb"
      },
      "execution_count": 3,
      "outputs": []
    },
    {
      "cell_type": "code",
      "source": [
        " from sklearn.metrics import mean_squared_error\n",
        " from statsmodels.tsa.holtwinters import ExponentialSmoothing"
      ],
      "metadata": {
        "id": "ZuKTllFwNlzU"
      },
      "execution_count": 4,
      "outputs": []
    },
    {
      "cell_type": "code",
      "source": [
        "df = pd.read_csv('/content/airline_passengers.csv',index_col = 'Month',parse_dates = True)"
      ],
      "metadata": {
        "id": "TeTyyTXgOEr1"
      },
      "execution_count": 5,
      "outputs": []
    },
    {
      "cell_type": "code",
      "source": [
        "df.index.freq = 'MS'"
      ],
      "metadata": {
        "id": "gfZWTUEjOcTJ"
      },
      "execution_count": 6,
      "outputs": []
    },
    {
      "cell_type": "code",
      "source": [
        "df.shape"
      ],
      "metadata": {
        "colab": {
          "base_uri": "https://localhost:8080/"
        },
        "id": "q6V8yf0xOwjJ",
        "outputId": "15e20f53-1264-474e-fe43-47eda6374238"
      },
      "execution_count": 7,
      "outputs": [
        {
          "output_type": "execute_result",
          "data": {
            "text/plain": [
              "(144, 1)"
            ]
          },
          "metadata": {},
          "execution_count": 7
        }
      ]
    },
    {
      "cell_type": "code",
      "source": [
        "#Assume the forecast horizon we care about is 12\n",
        "#Validate over 10 steps\n",
        "h = 12\n",
        "steps = 10\n",
        "Ntest = len(df) - h - steps + 1"
      ],
      "metadata": {
        "id": "WkZBcI5HOzAs"
      },
      "execution_count": 8,
      "outputs": []
    },
    {
      "cell_type": "code",
      "source": [
        "#Configuration hyperparameters to try\n",
        "trend_type_list = ['add','mul']\n",
        "seasonal_type_list = ['add','mul']\n",
        "damped_trend_list = [True,False]\n",
        "init_method_list = ['estimated','heuristic','legacy-heuristic']\n",
        "use_boxcox_list = [True,False,0]"
      ],
      "metadata": {
        "id": "6TmhZk2TPMbM"
      },
      "execution_count": 9,
      "outputs": []
    },
    {
      "cell_type": "code",
      "source": [
        "def walkforward(\n",
        "    trend_type,\n",
        "    seasonal_type,\n",
        "    damped_trend,\n",
        "    init_method,\n",
        "    use_boxcox,\n",
        "    debug=False):\n",
        "\n",
        "    #Store errors\n",
        "    errors = []\n",
        "    seen_last = False\n",
        "    steps_completed = 0\n",
        "\n",
        "    for end_of_train in range(Ntest,len(df)-h+1):\n",
        "        train = df.iloc[:end_of_train]\n",
        "        test = df.iloc[end_of_train:end_of_train + h]\n",
        "\n",
        "        if test.index[-1] == df.index[-1]:\n",
        "          seen_last = True\n",
        "\n",
        "        steps_completed += 1\n",
        "\n",
        "        #Train the model\n",
        "        hw = ExponentialSmoothing(\n",
        "          train['Passengers'],\n",
        "          initialization_method = init_method,\n",
        "          trend = trend_type,\n",
        "          damped_trend = damped_trend,\n",
        "          seasonal = seasonal_type,\n",
        "          seasonal_periods = 12,\n",
        "          use_boxcox = use_boxcox\n",
        "        )\n",
        "        res_hw = hw.fit()\n",
        "\n",
        "        #Compute error for the forecast horizon\n",
        "        fcast = res_hw.forecast(h)\n",
        "        error = mean_squared_error(test['Passengers'],fcast)\n",
        "        errors.append(error)\n",
        "\n",
        "    if debug:\n",
        "        print('seen_last: ', seen_last)\n",
        "        print('Steps completed: ',steps_completed)\n",
        "\n",
        "    return np.mean(errors)"
      ],
      "metadata": {
        "id": "10sQ548pNqNw"
      },
      "execution_count": 60,
      "outputs": []
    },
    {
      "cell_type": "code",
      "source": [
        "#Test our function\n",
        "walkforward('add','add',False,'legacy-heuristic',0,debug = True)"
      ],
      "metadata": {
        "colab": {
          "base_uri": "https://localhost:8080/"
        },
        "id": "_V4657FaVMJA",
        "outputId": "abcc1bf5-bfee-47e6-bdd9-25bdbf7a6807"
      },
      "execution_count": 61,
      "outputs": [
        {
          "output_type": "stream",
          "name": "stdout",
          "text": [
            "seen_last:  True\n",
            "Steps completed:  10\n"
          ]
        },
        {
          "output_type": "execute_result",
          "data": {
            "text/plain": [
              "1448.5344452151644"
            ]
          },
          "metadata": {},
          "execution_count": 61
        }
      ]
    },
    {
      "cell_type": "code",
      "source": [
        "#Iterate through all possible options\n",
        "tuple_of_option_lists = (\n",
        "    trend_type_list,\n",
        "    seasonal_type_list,\n",
        "    damped_trend_list,\n",
        "    init_method_list,\n",
        "    use_boxcox_list\n",
        ")\n",
        "\n",
        "#Show all the combination\n",
        "for x in itertools.product(*tuple_of_option_lists):\n",
        "  print(x)"
      ],
      "metadata": {
        "id": "cWbxEm95caE2"
      },
      "execution_count": null,
      "outputs": []
    },
    {
      "cell_type": "code",
      "source": [
        "#Set best score to infinity\n",
        "best_score = float('inf')\n",
        "#Set best options to none\n",
        "best_option = None\n",
        "\n",
        "for x in itertools.product(*tuple_of_option_lists):\n",
        "    score = walkforward(*x)\n",
        "\n",
        "    if score < best_score:\n",
        "        print(\"Best score so far : \",score)\n",
        "        best_score = score\n",
        "        best_option = x\n"
      ],
      "metadata": {
        "colab": {
          "base_uri": "https://localhost:8080/"
        },
        "id": "3IWwX_7_dg1z",
        "outputId": "00a6dbda-a077-47e1-d906-bae9e4125348"
      },
      "execution_count": 67,
      "outputs": [
        {
          "output_type": "stream",
          "name": "stdout",
          "text": [
            "Best score so far :  412.8172974447663\n",
            "Best score so far :  397.5872563558714\n",
            "Best score so far :  368.7875802314191\n",
            "Best score so far :  320.66417039593273\n",
            "Best score so far :  308.1359546249236\n"
          ]
        },
        {
          "output_type": "stream",
          "name": "stderr",
          "text": [
            "/usr/local/lib/python3.10/dist-packages/statsmodels/tsa/holtwinters/model.py:83: RuntimeWarning: overflow encountered in matmul\n",
            "  return err.T @ err\n",
            "/usr/local/lib/python3.10/dist-packages/statsmodels/tsa/holtwinters/model.py:83: RuntimeWarning: overflow encountered in matmul\n",
            "  return err.T @ err\n",
            "/usr/local/lib/python3.10/dist-packages/statsmodels/tsa/holtwinters/model.py:83: RuntimeWarning: overflow encountered in matmul\n",
            "  return err.T @ err\n",
            "/usr/local/lib/python3.10/dist-packages/statsmodels/tsa/holtwinters/model.py:83: RuntimeWarning: overflow encountered in matmul\n",
            "  return err.T @ err\n",
            "/usr/local/lib/python3.10/dist-packages/statsmodels/tsa/holtwinters/model.py:83: RuntimeWarning: overflow encountered in matmul\n",
            "  return err.T @ err\n",
            "/usr/local/lib/python3.10/dist-packages/statsmodels/tsa/holtwinters/model.py:83: RuntimeWarning: overflow encountered in matmul\n",
            "  return err.T @ err\n",
            "/usr/local/lib/python3.10/dist-packages/statsmodels/tsa/holtwinters/model.py:83: RuntimeWarning: overflow encountered in matmul\n",
            "  return err.T @ err\n",
            "/usr/local/lib/python3.10/dist-packages/statsmodels/tsa/holtwinters/model.py:83: RuntimeWarning: overflow encountered in matmul\n",
            "  return err.T @ err\n",
            "/usr/local/lib/python3.10/dist-packages/statsmodels/tsa/holtwinters/model.py:83: RuntimeWarning: overflow encountered in matmul\n",
            "  return err.T @ err\n",
            "/usr/local/lib/python3.10/dist-packages/statsmodels/tsa/holtwinters/model.py:83: RuntimeWarning: overflow encountered in matmul\n",
            "  return err.T @ err\n",
            "/usr/local/lib/python3.10/dist-packages/statsmodels/tsa/holtwinters/model.py:83: RuntimeWarning: overflow encountered in matmul\n",
            "  return err.T @ err\n",
            "/usr/local/lib/python3.10/dist-packages/statsmodels/tsa/holtwinters/model.py:83: RuntimeWarning: overflow encountered in matmul\n",
            "  return err.T @ err\n",
            "/usr/local/lib/python3.10/dist-packages/statsmodels/tsa/holtwinters/model.py:83: RuntimeWarning: overflow encountered in matmul\n",
            "  return err.T @ err\n",
            "/usr/local/lib/python3.10/dist-packages/statsmodels/tsa/holtwinters/model.py:83: RuntimeWarning: overflow encountered in matmul\n",
            "  return err.T @ err\n",
            "/usr/local/lib/python3.10/dist-packages/statsmodels/tsa/holtwinters/model.py:83: RuntimeWarning: overflow encountered in matmul\n",
            "  return err.T @ err\n",
            "/usr/local/lib/python3.10/dist-packages/statsmodels/tsa/holtwinters/model.py:83: RuntimeWarning: overflow encountered in matmul\n",
            "  return err.T @ err\n",
            "/usr/local/lib/python3.10/dist-packages/statsmodels/tsa/holtwinters/model.py:83: RuntimeWarning: overflow encountered in matmul\n",
            "  return err.T @ err\n",
            "/usr/local/lib/python3.10/dist-packages/statsmodels/tsa/holtwinters/model.py:83: RuntimeWarning: overflow encountered in matmul\n",
            "  return err.T @ err\n",
            "/usr/local/lib/python3.10/dist-packages/statsmodels/tsa/holtwinters/model.py:83: RuntimeWarning: overflow encountered in matmul\n",
            "  return err.T @ err\n",
            "/usr/local/lib/python3.10/dist-packages/statsmodels/tsa/holtwinters/model.py:83: RuntimeWarning: overflow encountered in matmul\n",
            "  return err.T @ err\n",
            "/usr/local/lib/python3.10/dist-packages/statsmodels/tsa/holtwinters/model.py:83: RuntimeWarning: overflow encountered in matmul\n",
            "  return err.T @ err\n"
          ]
        },
        {
          "output_type": "stream",
          "name": "stdout",
          "text": [
            "Best score so far :  305.6593349312611\n",
            "Best score so far :  299.8202726489487\n",
            "Best score so far :  261.8795073548492\n",
            "Best score so far :  249.57507607273482\n"
          ]
        },
        {
          "output_type": "stream",
          "name": "stderr",
          "text": [
            "/usr/local/lib/python3.10/dist-packages/statsmodels/tsa/holtwinters/model.py:83: RuntimeWarning: overflow encountered in matmul\n",
            "  return err.T @ err\n",
            "/usr/local/lib/python3.10/dist-packages/statsmodels/tsa/holtwinters/model.py:83: RuntimeWarning: overflow encountered in matmul\n",
            "  return err.T @ err\n",
            "/usr/local/lib/python3.10/dist-packages/statsmodels/tsa/holtwinters/model.py:83: RuntimeWarning: overflow encountered in matmul\n",
            "  return err.T @ err\n",
            "/usr/local/lib/python3.10/dist-packages/statsmodels/tsa/holtwinters/model.py:83: RuntimeWarning: overflow encountered in matmul\n",
            "  return err.T @ err\n",
            "/usr/local/lib/python3.10/dist-packages/statsmodels/tsa/holtwinters/model.py:83: RuntimeWarning: overflow encountered in matmul\n",
            "  return err.T @ err\n",
            "/usr/local/lib/python3.10/dist-packages/statsmodels/tsa/holtwinters/model.py:83: RuntimeWarning: overflow encountered in matmul\n",
            "  return err.T @ err\n",
            "/usr/local/lib/python3.10/dist-packages/statsmodels/tsa/holtwinters/model.py:83: RuntimeWarning: overflow encountered in matmul\n",
            "  return err.T @ err\n",
            "/usr/local/lib/python3.10/dist-packages/statsmodels/tsa/holtwinters/model.py:83: RuntimeWarning: overflow encountered in matmul\n",
            "  return err.T @ err\n",
            "/usr/local/lib/python3.10/dist-packages/statsmodels/tsa/holtwinters/model.py:83: RuntimeWarning: overflow encountered in matmul\n",
            "  return err.T @ err\n",
            "/usr/local/lib/python3.10/dist-packages/statsmodels/tsa/holtwinters/model.py:83: RuntimeWarning: overflow encountered in matmul\n",
            "  return err.T @ err\n",
            "/usr/local/lib/python3.10/dist-packages/statsmodels/tsa/holtwinters/model.py:83: RuntimeWarning: overflow encountered in matmul\n",
            "  return err.T @ err\n",
            "/usr/local/lib/python3.10/dist-packages/statsmodels/tsa/holtwinters/model.py:83: RuntimeWarning: overflow encountered in matmul\n",
            "  return err.T @ err\n",
            "/usr/local/lib/python3.10/dist-packages/statsmodels/tsa/holtwinters/model.py:83: RuntimeWarning: overflow encountered in matmul\n",
            "  return err.T @ err\n",
            "/usr/local/lib/python3.10/dist-packages/statsmodels/tsa/holtwinters/model.py:83: RuntimeWarning: overflow encountered in matmul\n",
            "  return err.T @ err\n",
            "/usr/local/lib/python3.10/dist-packages/statsmodels/tsa/holtwinters/model.py:83: RuntimeWarning: overflow encountered in matmul\n",
            "  return err.T @ err\n",
            "/usr/local/lib/python3.10/dist-packages/statsmodels/tsa/holtwinters/model.py:83: RuntimeWarning: overflow encountered in matmul\n",
            "  return err.T @ err\n",
            "/usr/local/lib/python3.10/dist-packages/statsmodels/tsa/holtwinters/model.py:83: RuntimeWarning: overflow encountered in matmul\n",
            "  return err.T @ err\n",
            "/usr/local/lib/python3.10/dist-packages/statsmodels/tsa/holtwinters/model.py:83: RuntimeWarning: overflow encountered in matmul\n",
            "  return err.T @ err\n",
            "/usr/local/lib/python3.10/dist-packages/statsmodels/tsa/holtwinters/model.py:83: RuntimeWarning: overflow encountered in matmul\n",
            "  return err.T @ err\n"
          ]
        }
      ]
    },
    {
      "cell_type": "code",
      "source": [
        "print(\"Best Score : \",best_score)\n",
        "\n",
        "trend_type,seasonal_type,damped_trend,init_method,use_boxcox = best_option\n",
        "print(\"trend_type    : \", trend_type)\n",
        "print(\"seasonal_type : \",seasonal_type)\n",
        "print(\"damped_trend  : \",damped_trend)\n",
        "print(\"init_method   : \",init_method )\n",
        "print(\"use_boxcox    : \",use_boxcox)"
      ],
      "metadata": {
        "colab": {
          "base_uri": "https://localhost:8080/"
        },
        "id": "363QtxlHigS8",
        "outputId": "81497471-483f-41c5-8f0c-39b42dbd235f"
      },
      "execution_count": 68,
      "outputs": [
        {
          "output_type": "stream",
          "name": "stdout",
          "text": [
            "Best Score :  249.57507607273482\n",
            "trend_type    :  mul\n",
            "seasonal_type :  add\n",
            "damped_trend  :  False\n",
            "init_method   :  legacy-heuristic\n",
            "use_boxcox    :  False\n"
          ]
        }
      ]
    }
  ]
}