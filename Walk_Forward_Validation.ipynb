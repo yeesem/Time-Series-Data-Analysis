{
  "nbformat": 4,
  "nbformat_minor": 0,
  "metadata": {
    "colab": {
      "provenance": [],
      "authorship_tag": "ABX9TyMakOHbY+PGfEpoeLOXDeX8",
      "include_colab_link": true
    },
    "kernelspec": {
      "name": "python3",
      "display_name": "Python 3"
    },
    "language_info": {
      "name": "python"
    }
  },
  "cells": [
    {
      "cell_type": "markdown",
      "metadata": {
        "id": "view-in-github",
        "colab_type": "text"
      },
      "source": [
        "<a href=\"https://colab.research.google.com/github/yeesem/Time-Series-Data-Analysis/blob/main/Walk_Forward_Validation.ipynb\" target=\"_parent\"><img src=\"https://colab.research.google.com/assets/colab-badge.svg\" alt=\"Open In Colab\"/></a>"
      ]
    },
    {
      "cell_type": "code",
      "execution_count": null,
      "metadata": {
        "id": "Wx8Xd2LKI2ml"
      },
      "outputs": [],
      "source": [
        "!wget -nc https://lazyprogrammer.me/course_files/airline_passengers.csv"
      ]
    },
    {
      "cell_type": "code",
      "source": [
        "!pip install -U statsmodels"
      ],
      "metadata": {
        "id": "XlJmZubNNJas"
      },
      "execution_count": null,
      "outputs": []
    },
    {
      "cell_type": "code",
      "source": [
        "import pandas as pd\n",
        "import numpy as np\n",
        "import matplotlib.pyplot as plt\n",
        "\n",
        "import itertools"
      ],
      "metadata": {
        "id": "nkajyZmmNRPb"
      },
      "execution_count": 4,
      "outputs": []
    },
    {
      "cell_type": "code",
      "source": [
        " from sklearn.metrics import mean_squared_error\n",
        " from statsmodels.tsa.holtwinters import ExponentialSmoothing"
      ],
      "metadata": {
        "id": "ZuKTllFwNlzU"
      },
      "execution_count": 5,
      "outputs": []
    },
    {
      "cell_type": "code",
      "source": [
        "df = pd.read_csv('/content/airline_passengers.csv',index_col = 'Month',parse_dates = True)"
      ],
      "metadata": {
        "id": "TeTyyTXgOEr1"
      },
      "execution_count": 9,
      "outputs": []
    },
    {
      "cell_type": "code",
      "source": [
        "df.index.freq = 'MS'"
      ],
      "metadata": {
        "id": "gfZWTUEjOcTJ"
      },
      "execution_count": 10,
      "outputs": []
    },
    {
      "cell_type": "code",
      "source": [
        "df.shape"
      ],
      "metadata": {
        "colab": {
          "base_uri": "https://localhost:8080/"
        },
        "id": "q6V8yf0xOwjJ",
        "outputId": "60018997-c83f-4007-ce38-7fdca1080adb"
      },
      "execution_count": 11,
      "outputs": [
        {
          "output_type": "execute_result",
          "data": {
            "text/plain": [
              "(144, 1)"
            ]
          },
          "metadata": {},
          "execution_count": 11
        }
      ]
    },
    {
      "cell_type": "code",
      "source": [
        "#Assume the forecast horizon we care about is 12\n",
        "#Validate over 10 steps\n",
        "h = 12\n",
        "steps = 10\n",
        "Ntest = len(df) - h - steps + 1"
      ],
      "metadata": {
        "id": "WkZBcI5HOzAs"
      },
      "execution_count": 12,
      "outputs": []
    },
    {
      "cell_type": "code",
      "source": [
        "#Configuration hyperparameters to try\n",
        "trend_type_list = ['add','mul']\n",
        "seasonal_type_list = ['add','mul']\n",
        "damped_trend_list = [True,False]\n",
        "init_method_list = ['estimated','heuristic','legacy-heuristic']\n",
        "use_boxcox_list = [True,False,0]"
      ],
      "metadata": {
        "id": "6TmhZk2TPMbM"
      },
      "execution_count": 13,
      "outputs": []
    }
  ]
}