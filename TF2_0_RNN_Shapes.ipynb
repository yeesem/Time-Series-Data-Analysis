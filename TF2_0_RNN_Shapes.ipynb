{
  "nbformat": 4,
  "nbformat_minor": 0,
  "metadata": {
    "colab": {
      "provenance": [],
      "authorship_tag": "ABX9TyMqvLRRvJI7IzcPYSKow8li",
      "include_colab_link": true
    },
    "kernelspec": {
      "name": "python3",
      "display_name": "Python 3"
    },
    "language_info": {
      "name": "python"
    }
  },
  "cells": [
    {
      "cell_type": "markdown",
      "metadata": {
        "id": "view-in-github",
        "colab_type": "text"
      },
      "source": [
        "<a href=\"https://colab.research.google.com/github/yeesem/Time-Series-Data-Analysis/blob/main/TF2_0_RNN_Shapes.ipynb\" target=\"_parent\"><img src=\"https://colab.research.google.com/assets/colab-badge.svg\" alt=\"Open In Colab\"/></a>"
      ]
    },
    {
      "cell_type": "code",
      "execution_count": 39,
      "metadata": {
        "colab": {
          "base_uri": "https://localhost:8080/"
        },
        "id": "7My4dWAwEAXW",
        "outputId": "024af6d6-6931-42ab-b914-b07d65e950c6"
      },
      "outputs": [
        {
          "output_type": "stream",
          "name": "stdout",
          "text": [
            "\u001b[31mERROR: Could not find a version that satisfies the requirement tensorflow-gpu==2.0.0-beta1 (from versions: 2.8.0rc0, 2.8.0rc1, 2.8.0, 2.8.1, 2.8.2, 2.8.3, 2.8.4, 2.9.0rc0, 2.9.0rc1, 2.9.0rc2, 2.9.0, 2.9.1, 2.9.2, 2.9.3, 2.10.0rc0, 2.10.0rc1, 2.10.0rc2, 2.10.0rc3, 2.10.0, 2.10.1, 2.11.0rc0, 2.11.0rc1, 2.11.0rc2, 2.11.0, 2.12.0)\u001b[0m\u001b[31m\n",
            "\u001b[0m\u001b[31mERROR: No matching distribution found for tensorflow-gpu==2.0.0-beta1\u001b[0m\u001b[31m\n",
            "\u001b[0m2.14.0\n"
          ]
        }
      ],
      "source": [
        "#Install Tensorflow\n",
        "!pip install -q tensorflow-gpu==2.0.0-beta1\n",
        "import tensorflow as tf\n",
        "print(tf.__version__)"
      ]
    },
    {
      "cell_type": "code",
      "source": [
        "from tensorflow.keras.layers import Input,SimpleRNN,Dense,Flatten\n",
        "from tensorflow.keras.models import Model\n",
        "from tensorflow.keras.optimizers import SGD,Adam\n",
        "\n",
        "import numpy as np\n",
        "import pandas as pd\n",
        "import matplotlib.pyplot as plt\n"
      ],
      "metadata": {
        "id": "1BHbdTXlEQjw"
      },
      "execution_count": 40,
      "outputs": []
    },
    {
      "cell_type": "code",
      "source": [
        "# N = number of samples\n",
        "# T = sequence length\n",
        "# D = number of input features\n",
        "# M = number of hidden units\n",
        "# K = number of output units\n",
        "\n",
        "#Make some data\n",
        "N = 1\n",
        "T = 10\n",
        "D = 3\n",
        "K = 2\n",
        "X = np.random.randn(N,T,D)"
      ],
      "metadata": {
        "id": "XoIb7L75FB-N"
      },
      "execution_count": 41,
      "outputs": []
    },
    {
      "cell_type": "code",
      "source": [
        "#Make an RNN\n",
        "M = 5  #Number of hidden units\n",
        "i = Input(shape = (T,D))\n",
        "x = SimpleRNN(M)(i)\n",
        "x = Dense(K)(x)\n",
        "\n",
        "model = Model(i,x)"
      ],
      "metadata": {
        "id": "t3KSeH8KGGnS"
      },
      "execution_count": 42,
      "outputs": []
    },
    {
      "cell_type": "code",
      "source": [
        "#Get the output\n",
        "Yhat = model.predict(X)\n",
        "print(Yhat)"
      ],
      "metadata": {
        "colab": {
          "base_uri": "https://localhost:8080/"
        },
        "id": "t-p3hWUPGZts",
        "outputId": "548a5448-c0d1-49d9-afed-df8d32b88eca"
      },
      "execution_count": 43,
      "outputs": [
        {
          "output_type": "stream",
          "name": "stdout",
          "text": [
            "1/1 [==============================] - 0s 143ms/step\n",
            "[[-0.4913298  -0.17367208]]\n"
          ]
        }
      ]
    },
    {
      "cell_type": "code",
      "source": [
        "model.summary()"
      ],
      "metadata": {
        "colab": {
          "base_uri": "https://localhost:8080/"
        },
        "id": "bvnRAJCrG0wJ",
        "outputId": "1219b87f-ab4a-404c-f475-136e3b4840df"
      },
      "execution_count": 44,
      "outputs": [
        {
          "output_type": "stream",
          "name": "stdout",
          "text": [
            "Model: \"model_3\"\n",
            "_________________________________________________________________\n",
            " Layer (type)                Output Shape              Param #   \n",
            "=================================================================\n",
            " input_4 (InputLayer)        [(None, 10, 3)]           0         \n",
            "                                                                 \n",
            " simple_rnn_3 (SimpleRNN)    (None, 5)                 45        \n",
            "                                                                 \n",
            " dense_3 (Dense)             (None, 2)                 12        \n",
            "                                                                 \n",
            "=================================================================\n",
            "Total params: 57 (228.00 Byte)\n",
            "Trainable params: 57 (228.00 Byte)\n",
            "Non-trainable params: 0 (0.00 Byte)\n",
            "_________________________________________________________________\n"
          ]
        }
      ]
    },
    {
      "cell_type": "code",
      "source": [
        "tf.keras.utils.plot_model(model)"
      ],
      "metadata": {
        "colab": {
          "base_uri": "https://localhost:8080/",
          "height": 272
        },
        "id": "HfMO-75NG1qa",
        "outputId": "1bc9cb7a-ed64-44a2-96ec-e93e80b0b581"
      },
      "execution_count": 45,
      "outputs": [
        {
          "output_type": "execute_result",
          "data": {
            "image/png": "[encoded data removed]",
            "text/plain": [
              "<IPython.core.display.Image object>"
            ]
          },
          "metadata": {},
          "execution_count": 45
        }
      ]
    },
    {
      "cell_type": "code",
      "source": [
        "model.layers[1].get_weights()"
      ],
      "metadata": {
        "colab": {
          "base_uri": "https://localhost:8080/"
        },
        "id": "TCG_hBIBHBzk",
        "outputId": "3ded566a-0b47-4055-c438-3f65915b2c34"
      },
      "execution_count": 46,
      "outputs": [
        {
          "output_type": "execute_result",
          "data": {
            "text/plain": [
              "[array([[ 0.10122347, -0.830197  , -0.43985718, -0.52449787, -0.10303408],\n",
              "        [-0.68581843, -0.84179187, -0.8654384 ,  0.01617205,  0.36120385],\n",
              "        [ 0.8170182 ,  0.8377183 , -0.60604024,  0.4792003 , -0.6676134 ]],\n",
              "       dtype=float32),\n",
              " array([[ 0.14659715,  0.3840403 , -0.45533198,  0.7391664 ,  0.27807975],\n",
              "        [ 0.75545543, -0.6244283 , -0.19116417,  0.04923683,  0.02021231],\n",
              "        [ 0.08655188,  0.09902805,  0.01057951, -0.4028351 ,  0.9057121 ],\n",
              "        [ 0.14358479,  0.33895338, -0.7071065 , -0.53469944, -0.28034115],\n",
              "        [-0.61618876, -0.5812973 , -0.50598204,  0.05504006,  0.15283231]],\n",
              "       dtype=float32),\n",
              " array([0., 0., 0., 0., 0.], dtype=float32)]"
            ]
          },
          "metadata": {},
          "execution_count": 46
        }
      ]
    },
    {
      "cell_type": "code",
      "source": [
        "a,b,c = model.layers[1].get_weights()\n",
        "print(a.shape,b.shape,c.shape)"
      ],
      "metadata": {
        "colab": {
          "base_uri": "https://localhost:8080/"
        },
        "id": "p6q62O5JHHbp",
        "outputId": "3928732d-a83d-487e-b641-6d7ba87f1de2"
      },
      "execution_count": 47,
      "outputs": [
        {
          "output_type": "stream",
          "name": "stdout",
          "text": [
            "(3, 5) (5, 5) (5,)\n"
          ]
        }
      ]
    },
    {
      "cell_type": "code",
      "source": [
        "#x - input layer\n",
        "#h - hidden layer\n",
        "#b - bias term\n",
        "Wx,Wh,bh = model.layers[1].get_weights()\n",
        "Wo,bo = model.layers[2].get_weights()"
      ],
      "metadata": {
        "id": "IsE62e-yHair"
      },
      "execution_count": 54,
      "outputs": []
    },
    {
      "cell_type": "code",
      "source": [
        "h_last = np.zeros(M)\n",
        "x = X[0] #the one and only sample\n",
        "Yhats = []\n",
        "\n",
        "for t in range(T):\n",
        "  h = np.tanh(x[t].dot(Wx) + h_last.dot(Wh) + bh)\n",
        "  y = h.dot(Wo) + bo\n",
        "  Yhats.append(y)\n",
        "\n",
        "  last_h = h\n",
        "\n",
        "#Print the final output\n",
        "print(Yhats[-1])"
      ],
      "metadata": {
        "colab": {
          "base_uri": "https://localhost:8080/"
        },
        "id": "BodXlMiKH3qZ",
        "outputId": "ca22ea7c-14d8-4a64-aa85-3a94aa1ed49a"
      },
      "execution_count": 53,
      "outputs": [
        {
          "output_type": "stream",
          "name": "stdout",
          "text": [
            "[-0.86110587  0.16674246]\n"
          ]
        }
      ]
    }
  ]
}