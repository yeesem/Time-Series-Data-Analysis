{
  "nbformat": 4,
  "nbformat_minor": 0,
  "metadata": {
    "colab": {
      "provenance": [],
      "authorship_tag": "ABX9TyMyC2qghDGsbujsN+109Mom",
      "include_colab_link": true
    },
    "kernelspec": {
      "name": "python3",
      "display_name": "Python 3"
    },
    "language_info": {
      "name": "python"
    }
  },
  "cells": [
    {
      "cell_type": "markdown",
      "metadata": {
        "id": "view-in-github",
        "colab_type": "text"
      },
      "source": [
        "<a href=\"https://colab.research.google.com/github/yeesem/Time-Series-Data-Analysis/blob/main/Working_with_Text_File.ipynb\" target=\"_parent\"><img src=\"https://colab.research.google.com/assets/colab-badge.svg\" alt=\"Open In Colab\"/></a>"
      ]
    },
    {
      "cell_type": "code",
      "execution_count": 1,
      "metadata": {
        "id": "jifemoXhj7f4"
      },
      "outputs": [],
      "source": [
        "person = 'Jose'"
      ]
    },
    {
      "cell_type": "code",
      "source": [
        "print('My name is {}'.format(person))"
      ],
      "metadata": {
        "colab": {
          "base_uri": "https://localhost:8080/"
        },
        "id": "ZwA69v7akZFR",
        "outputId": "c79c9406-d867-40df-a1ea-52059b4ac0d4"
      },
      "execution_count": 2,
      "outputs": [
        {
          "output_type": "stream",
          "name": "stdout",
          "text": [
            "My name is Jose\n"
          ]
        }
      ]
    },
    {
      "cell_type": "code",
      "source": [
        "print(f\"My name is {person}\")"
      ],
      "metadata": {
        "colab": {
          "base_uri": "https://localhost:8080/"
        },
        "id": "oui-V7Z4kd8I",
        "outputId": "6c2802c5-db97-41dc-fdb8-0993d8843383"
      },
      "execution_count": 3,
      "outputs": [
        {
          "output_type": "stream",
          "name": "stdout",
          "text": [
            "My name is Jose\n"
          ]
        }
      ]
    },
    {
      "cell_type": "code",
      "source": [
        "d = {'a':123,'b':235}"
      ],
      "metadata": {
        "id": "R6PRA64Jkrlj"
      },
      "execution_count": 4,
      "outputs": []
    },
    {
      "cell_type": "code",
      "source": [
        "print(f\"My number is {d['a']}\")"
      ],
      "metadata": {
        "colab": {
          "base_uri": "https://localhost:8080/"
        },
        "id": "w1xILnlRlAYT",
        "outputId": "71fc0068-4aaa-4c25-bebb-b7e4b7b054c4"
      },
      "execution_count": 5,
      "outputs": [
        {
          "output_type": "stream",
          "name": "stdout",
          "text": [
            "My number is 123\n"
          ]
        }
      ]
    },
    {
      "cell_type": "code",
      "source": [
        "mylist = [0,1,2]"
      ],
      "metadata": {
        "id": "IV9FKo6rlIvN"
      },
      "execution_count": 6,
      "outputs": []
    },
    {
      "cell_type": "code",
      "source": [
        "print(f\"my number is {mylist[0]}\")"
      ],
      "metadata": {
        "colab": {
          "base_uri": "https://localhost:8080/"
        },
        "id": "vE6GuyeFlcZu",
        "outputId": "cfddd79c-1b25-4629-a09f-fcaca46ab2bf"
      },
      "execution_count": 7,
      "outputs": [
        {
          "output_type": "stream",
          "name": "stdout",
          "text": [
            "my number is 0\n"
          ]
        }
      ]
    },
    {
      "cell_type": "code",
      "source": [
        "library = [('Author','Topic','Pages'),('Twain','Rafting',601),('Feynman','Physics',95),('Hamilton','Mythology',144)]\n"
      ],
      "metadata": {
        "id": "3JCE0qCYlfBg"
      },
      "execution_count": 8,
      "outputs": []
    },
    {
      "cell_type": "code",
      "source": [
        "library"
      ],
      "metadata": {
        "colab": {
          "base_uri": "https://localhost:8080/"
        },
        "id": "JG9sJkkol-B2",
        "outputId": "d7a0915b-7151-45dd-f719-b94ad2f9f55d"
      },
      "execution_count": 9,
      "outputs": [
        {
          "output_type": "execute_result",
          "data": {
            "text/plain": [
              "[('Author', 'Topic', 'Pages'),\n",
              " ('Twain', 'Rafting', 601),\n",
              " ('Feynman', 'Physics', 95),\n",
              " ('Hamilton', 'Mythology', 144)]"
            ]
          },
          "metadata": {},
          "execution_count": 9
        }
      ]
    },
    {
      "cell_type": "code",
      "source": [
        "library[0]"
      ],
      "metadata": {
        "colab": {
          "base_uri": "https://localhost:8080/"
        },
        "id": "ZtrM6oXyl-rp",
        "outputId": "9ec1e916-a8c7-4cc5-c213-bc2688be9dc0"
      },
      "execution_count": 10,
      "outputs": [
        {
          "output_type": "execute_result",
          "data": {
            "text/plain": [
              "('Author', 'Topic', 'Pages')"
            ]
          },
          "metadata": {},
          "execution_count": 10
        }
      ]
    },
    {
      "cell_type": "code",
      "source": [
        "library[0][1]"
      ],
      "metadata": {
        "colab": {
          "base_uri": "https://localhost:8080/",
          "height": 35
        },
        "id": "xieyL9oOmB4z",
        "outputId": "af4acedb-68fd-45e6-f3e1-259ec3acbf56"
      },
      "execution_count": 11,
      "outputs": [
        {
          "output_type": "execute_result",
          "data": {
            "text/plain": [
              "'Topic'"
            ],
            "application/vnd.google.colaboratory.intrinsic+json": {
              "type": "string"
            }
          },
          "metadata": {},
          "execution_count": 11
        }
      ]
    },
    {
      "cell_type": "code",
      "source": [
        "for book in library:\n",
        "  print(book)"
      ],
      "metadata": {
        "colab": {
          "base_uri": "https://localhost:8080/"
        },
        "id": "qRwZkDsLmEes",
        "outputId": "1d38ae90-d6ba-4f33-cbfb-22cde6c6041c"
      },
      "execution_count": 12,
      "outputs": [
        {
          "output_type": "stream",
          "name": "stdout",
          "text": [
            "('Author', 'Topic', 'Pages')\n",
            "('Twain', 'Rafting', 601)\n",
            "('Feynman', 'Physics', 95)\n",
            "('Hamilton', 'Mythology', 144)\n"
          ]
        }
      ]
    },
    {
      "cell_type": "code",
      "source": [
        "for book in library:\n",
        "  print(f'Author is {book[0]}')"
      ],
      "metadata": {
        "colab": {
          "base_uri": "https://localhost:8080/"
        },
        "id": "OMVvOKl9n9E1",
        "outputId": "5909d93c-6a39-4474-d960-2d34dd49cfbb"
      },
      "execution_count": 13,
      "outputs": [
        {
          "output_type": "stream",
          "name": "stdout",
          "text": [
            "Author is Author\n",
            "Author is Twain\n",
            "Author is Feynman\n",
            "Author is Hamilton\n"
          ]
        }
      ]
    },
    {
      "cell_type": "code",
      "source": [
        "for author,topic,pages in library:\n",
        "  print(f\"{author} {topic} {pages}\")"
      ],
      "metadata": {
        "colab": {
          "base_uri": "https://localhost:8080/"
        },
        "id": "ylvC6VZCpABH",
        "outputId": "0532b07f-f1e1-4d94-8042-91de7c27bb2d"
      },
      "execution_count": 14,
      "outputs": [
        {
          "output_type": "stream",
          "name": "stdout",
          "text": [
            "Author Topic Pages\n",
            "Twain Rafting 601\n",
            "Feynman Physics 95\n",
            "Hamilton Mythology 144\n"
          ]
        }
      ]
    },
    {
      "cell_type": "code",
      "source": [
        "for author,topic,pages in library:\n",
        "  print(f\"{author:{10}} {topic:{30}} {pages:{10}}\")"
      ],
      "metadata": {
        "colab": {
          "base_uri": "https://localhost:8080/"
        },
        "id": "f0CqaLfnpdYl",
        "outputId": "50d0fa69-4e7a-4734-cd8c-63f31ab647dc"
      },
      "execution_count": 15,
      "outputs": [
        {
          "output_type": "stream",
          "name": "stdout",
          "text": [
            "Author     Topic                          Pages     \n",
            "Twain      Rafting                               601\n",
            "Feynman    Physics                                95\n",
            "Hamilton   Mythology                             144\n"
          ]
        }
      ]
    },
    {
      "cell_type": "code",
      "source": [
        "for author,topic,pages in library:\n",
        "  print(f\"{author:{10}} {topic:{30}} {pages:>{10}}\")"
      ],
      "metadata": {
        "colab": {
          "base_uri": "https://localhost:8080/"
        },
        "id": "S-rJfXBWqkFB",
        "outputId": "3b87c1ee-0d48-47ac-cf9d-59881ce72e88"
      },
      "execution_count": 16,
      "outputs": [
        {
          "output_type": "stream",
          "name": "stdout",
          "text": [
            "Author     Topic                               Pages\n",
            "Twain      Rafting                               601\n",
            "Feynman    Physics                                95\n",
            "Hamilton   Mythology                             144\n"
          ]
        }
      ]
    },
    {
      "cell_type": "code",
      "source": [
        "for author,topic,pages in library:\n",
        "  print(f\"{author:{10}} {topic:{10}} {pages:->{10}}\")"
      ],
      "metadata": {
        "colab": {
          "base_uri": "https://localhost:8080/"
        },
        "id": "AO7iMMzrqvE0",
        "outputId": "34364a5c-9c67-494e-ecd8-3a24f49a81dd"
      },
      "execution_count": 17,
      "outputs": [
        {
          "output_type": "stream",
          "name": "stdout",
          "text": [
            "Author     Topic      -----Pages\n",
            "Twain      Rafting    -------601\n",
            "Feynman    Physics    --------95\n",
            "Hamilton   Mythology  -------144\n"
          ]
        }
      ]
    },
    {
      "cell_type": "code",
      "source": [
        "from datetime import datetime"
      ],
      "metadata": {
        "id": "vtv3xulGrF9-"
      },
      "execution_count": 18,
      "outputs": []
    },
    {
      "cell_type": "code",
      "source": [
        "today = datetime(year = 2019,month = 2,day = 28)"
      ],
      "metadata": {
        "id": "IPXnog11pXkW"
      },
      "execution_count": 19,
      "outputs": []
    },
    {
      "cell_type": "code",
      "source": [
        "print(today)"
      ],
      "metadata": {
        "colab": {
          "base_uri": "https://localhost:8080/"
        },
        "id": "AdtoAe3LrX6y",
        "outputId": "c96eaf90-1a46-4bf2-ad99-fa9b6769302e"
      },
      "execution_count": 20,
      "outputs": [
        {
          "output_type": "stream",
          "name": "stdout",
          "text": [
            "2019-02-28 00:00:00\n"
          ]
        }
      ]
    },
    {
      "cell_type": "code",
      "source": [
        "print(f\"{today:%B %d %Y}\")"
      ],
      "metadata": {
        "colab": {
          "base_uri": "https://localhost:8080/"
        },
        "id": "LOaCuHfsrbCu",
        "outputId": "5cdce1e9-f291-497b-8820-18a140034097"
      },
      "execution_count": 21,
      "outputs": [
        {
          "output_type": "stream",
          "name": "stdout",
          "text": [
            "February 28 2019\n"
          ]
        }
      ]
    },
    {
      "cell_type": "code",
      "source": [
        "#Creating and writing a text file\n",
        "#test.txt is the name of the file\n",
        "%%writefile test.txt\n",
        "Hello, this is a quick test file.\n",
        "This is the second line of the file."
      ],
      "metadata": {
        "colab": {
          "base_uri": "https://localhost:8080/"
        },
        "id": "iPIWT97LrdLu",
        "outputId": "c0b8757b-c55d-4ea8-94f7-847a9c0c5f47"
      },
      "execution_count": 22,
      "outputs": [
        {
          "output_type": "stream",
          "name": "stdout",
          "text": [
            "Writing test.txt\n"
          ]
        }
      ]
    },
    {
      "cell_type": "code",
      "source": [
        "#Opening a text file\n",
        "myfile = open('test.txt')"
      ],
      "metadata": {
        "id": "YrE8zR5Gsbir"
      },
      "execution_count": 23,
      "outputs": []
    },
    {
      "cell_type": "code",
      "source": [
        "myfile"
      ],
      "metadata": {
        "colab": {
          "base_uri": "https://localhost:8080/"
        },
        "id": "J8sSQcKjstS9",
        "outputId": "f4dd85ac-fa2b-4f06-cedb-3b09454607c5"
      },
      "execution_count": 24,
      "outputs": [
        {
          "output_type": "execute_result",
          "data": {
            "text/plain": [
              "<_io.TextIOWrapper name='test.txt' mode='r' encoding='UTF-8'>"
            ]
          },
          "metadata": {},
          "execution_count": 24
        }
      ]
    },
    {
      "cell_type": "code",
      "source": [
        "myfile.read()"
      ],
      "metadata": {
        "colab": {
          "base_uri": "https://localhost:8080/",
          "height": 35
        },
        "id": "dyfuvdQ4s2e-",
        "outputId": "7e969f83-eba8-4d30-eb1b-4210907624d0"
      },
      "execution_count": 25,
      "outputs": [
        {
          "output_type": "execute_result",
          "data": {
            "text/plain": [
              "'Hello, this is a quick test file.\\nThis is the second line of the file.\\n'"
            ],
            "application/vnd.google.colaboratory.intrinsic+json": {
              "type": "string"
            }
          },
          "metadata": {},
          "execution_count": 25
        }
      ]
    },
    {
      "cell_type": "code",
      "source": [
        "#Cannot read the file multiple timea\n",
        "myfile.read()"
      ],
      "metadata": {
        "colab": {
          "base_uri": "https://localhost:8080/",
          "height": 35
        },
        "id": "6lsoqdlXuQyn",
        "outputId": "310707bd-ecdd-4e52-e1d0-8fccdb004045"
      },
      "execution_count": 26,
      "outputs": [
        {
          "output_type": "execute_result",
          "data": {
            "text/plain": [
              "''"
            ],
            "application/vnd.google.colaboratory.intrinsic+json": {
              "type": "string"
            }
          },
          "metadata": {},
          "execution_count": 26
        }
      ]
    },
    {
      "cell_type": "code",
      "source": [
        "#Need to declare seek function\n",
        "#To read the file again\n",
        "#Reset the cursor to index 0\n",
        "myfile.seek(0)"
      ],
      "metadata": {
        "colab": {
          "base_uri": "https://localhost:8080/"
        },
        "id": "_y5cXJOouXMr",
        "outputId": "4690e307-3a00-4c81-9353-43f21dab2769"
      },
      "execution_count": 27,
      "outputs": [
        {
          "output_type": "execute_result",
          "data": {
            "text/plain": [
              "0"
            ]
          },
          "metadata": {},
          "execution_count": 27
        }
      ]
    },
    {
      "cell_type": "code",
      "source": [
        "myfile.read()"
      ],
      "metadata": {
        "colab": {
          "base_uri": "https://localhost:8080/",
          "height": 35
        },
        "id": "34jR17nlujHG",
        "outputId": "efb366ff-d977-474f-dab3-b5183753d23d"
      },
      "execution_count": 28,
      "outputs": [
        {
          "output_type": "execute_result",
          "data": {
            "text/plain": [
              "'Hello, this is a quick test file.\\nThis is the second line of the file.\\n'"
            ],
            "application/vnd.google.colaboratory.intrinsic+json": {
              "type": "string"
            }
          },
          "metadata": {},
          "execution_count": 28
        }
      ]
    },
    {
      "cell_type": "code",
      "source": [
        "#Reset the cursor to index 5\n",
        "myfile.seek(5)"
      ],
      "metadata": {
        "colab": {
          "base_uri": "https://localhost:8080/"
        },
        "id": "srVnhtoGukjQ",
        "outputId": "8215862a-56ff-45bd-ae5a-91b20644fec6"
      },
      "execution_count": 29,
      "outputs": [
        {
          "output_type": "execute_result",
          "data": {
            "text/plain": [
              "5"
            ]
          },
          "metadata": {},
          "execution_count": 29
        }
      ]
    },
    {
      "cell_type": "code",
      "source": [
        "myfile.read()"
      ],
      "metadata": {
        "colab": {
          "base_uri": "https://localhost:8080/",
          "height": 35
        },
        "id": "-8u6qwMawdjQ",
        "outputId": "c841c269-ecc8-47e4-9ea2-04b6230c2d00"
      },
      "execution_count": 30,
      "outputs": [
        {
          "output_type": "execute_result",
          "data": {
            "text/plain": [
              "', this is a quick test file.\\nThis is the second line of the file.\\n'"
            ],
            "application/vnd.google.colaboratory.intrinsic+json": {
              "type": "string"
            }
          },
          "metadata": {},
          "execution_count": 30
        }
      ]
    },
    {
      "cell_type": "code",
      "source": [
        "myfile.seek(0)"
      ],
      "metadata": {
        "colab": {
          "base_uri": "https://localhost:8080/"
        },
        "id": "1d2-sFH4weiA",
        "outputId": "5814fe1e-a577-4de2-9b51-9dcc24383b48"
      },
      "execution_count": 31,
      "outputs": [
        {
          "output_type": "execute_result",
          "data": {
            "text/plain": [
              "0"
            ]
          },
          "metadata": {},
          "execution_count": 31
        }
      ]
    },
    {
      "cell_type": "code",
      "source": [
        "content = myfile.read()"
      ],
      "metadata": {
        "id": "HVOWhLPUwlUV"
      },
      "execution_count": 32,
      "outputs": []
    },
    {
      "cell_type": "code",
      "source": [
        "content"
      ],
      "metadata": {
        "colab": {
          "base_uri": "https://localhost:8080/",
          "height": 35
        },
        "id": "AGSa_GmXwo-3",
        "outputId": "df15a1b4-6af9-4904-d450-83441d846ed4"
      },
      "execution_count": 33,
      "outputs": [
        {
          "output_type": "execute_result",
          "data": {
            "text/plain": [
              "'Hello, this is a quick test file.\\nThis is the second line of the file.\\n'"
            ],
            "application/vnd.google.colaboratory.intrinsic+json": {
              "type": "string"
            }
          },
          "metadata": {},
          "execution_count": 33
        }
      ]
    },
    {
      "cell_type": "code",
      "source": [
        "#Use print function to print the endline\n",
        "print(content)"
      ],
      "metadata": {
        "colab": {
          "base_uri": "https://localhost:8080/"
        },
        "id": "OrF-7cVWwqH0",
        "outputId": "54ff3faa-50ff-4f6a-ad68-efea37570deb"
      },
      "execution_count": 34,
      "outputs": [
        {
          "output_type": "stream",
          "name": "stdout",
          "text": [
            "Hello, this is a quick test file.\n",
            "This is the second line of the file.\n",
            "\n"
          ]
        }
      ]
    },
    {
      "cell_type": "code",
      "source": [
        "myfile.close()"
      ],
      "metadata": {
        "id": "0cS56SJ0wq6T"
      },
      "execution_count": 35,
      "outputs": []
    },
    {
      "cell_type": "code",
      "source": [
        "myfile = open(\"test.txt\")"
      ],
      "metadata": {
        "id": "bPzwdnFJw1i2"
      },
      "execution_count": 37,
      "outputs": []
    },
    {
      "cell_type": "code",
      "source": [
        "myfile.readlines()"
      ],
      "metadata": {
        "colab": {
          "base_uri": "https://localhost:8080/"
        },
        "id": "K9ZOZrcaFBtb",
        "outputId": "ea7f696e-f1d4-49af-8165-3046c7ba4403"
      },
      "execution_count": 40,
      "outputs": [
        {
          "output_type": "execute_result",
          "data": {
            "text/plain": [
              "['Hello, this is a quick test file.\\n',\n",
              " 'This is the second line of the file.\\n']"
            ]
          },
          "metadata": {},
          "execution_count": 40
        }
      ]
    },
    {
      "cell_type": "code",
      "source": [
        "myfile.seek(0)"
      ],
      "metadata": {
        "colab": {
          "base_uri": "https://localhost:8080/"
        },
        "id": "PCGe-pNvFGMp",
        "outputId": "c09373f9-0a42-4006-e29e-ff7afb746815"
      },
      "execution_count": 41,
      "outputs": [
        {
          "output_type": "execute_result",
          "data": {
            "text/plain": [
              "0"
            ]
          },
          "metadata": {},
          "execution_count": 41
        }
      ]
    },
    {
      "cell_type": "code",
      "source": [
        "mylines = myfile.readlines()"
      ],
      "metadata": {
        "id": "dsAUK3SVFmrn"
      },
      "execution_count": 42,
      "outputs": []
    },
    {
      "cell_type": "code",
      "source": [
        "mylines"
      ],
      "metadata": {
        "colab": {
          "base_uri": "https://localhost:8080/"
        },
        "id": "r19JF_jFGVPb",
        "outputId": "4c10955d-b61f-46b4-e3db-15dc2c6bf763"
      },
      "execution_count": 43,
      "outputs": [
        {
          "output_type": "execute_result",
          "data": {
            "text/plain": [
              "['Hello, this is a quick test file.\\n',\n",
              " 'This is the second line of the file.\\n']"
            ]
          },
          "metadata": {},
          "execution_count": 43
        }
      ]
    },
    {
      "cell_type": "code",
      "source": [
        "for line in mylines:\n",
        "  print(line)"
      ],
      "metadata": {
        "colab": {
          "base_uri": "https://localhost:8080/"
        },
        "id": "cvEpjcbCGWOo",
        "outputId": "ca3b0f3a-6072-4e87-9745-9f087f19dfda"
      },
      "execution_count": 44,
      "outputs": [
        {
          "output_type": "stream",
          "name": "stdout",
          "text": [
            "Hello, this is a quick test file.\n",
            "\n",
            "This is the second line of the file.\n",
            "\n"
          ]
        }
      ]
    },
    {
      "cell_type": "code",
      "source": [
        "for line in mylines:\n",
        "  print(line[0])"
      ],
      "metadata": {
        "colab": {
          "base_uri": "https://localhost:8080/"
        },
        "id": "unZ2iMSFGnr9",
        "outputId": "05063b1c-0ea7-4138-d1e2-45ecf66e8910"
      },
      "execution_count": 45,
      "outputs": [
        {
          "output_type": "stream",
          "name": "stdout",
          "text": [
            "H\n",
            "T\n"
          ]
        }
      ]
    },
    {
      "cell_type": "code",
      "source": [
        "for line in mylines:\n",
        "  print(line.split()[0])"
      ],
      "metadata": {
        "colab": {
          "base_uri": "https://localhost:8080/"
        },
        "id": "8gPDX_l8Gs3K",
        "outputId": "64a2900f-de1d-49ae-9bcd-65e09b2a870c"
      },
      "execution_count": 46,
      "outputs": [
        {
          "output_type": "stream",
          "name": "stdout",
          "text": [
            "Hello,\n",
            "This\n"
          ]
        }
      ]
    },
    {
      "cell_type": "code",
      "source": [
        " #Write file\n",
        " #w+ - read and write file\n",
        " myfile = open('test.txt','w+')"
      ],
      "metadata": {
        "id": "njVRqTiSGwrG"
      },
      "execution_count": 48,
      "outputs": []
    },
    {
      "cell_type": "code",
      "source": [
        "#File has overwritten\n",
        "myfile.read()"
      ],
      "metadata": {
        "colab": {
          "base_uri": "https://localhost:8080/",
          "height": 35
        },
        "id": "KrCCvkr5IcLw",
        "outputId": "3635551d-d3cf-4f2d-97af-37cdc10a4bac"
      },
      "execution_count": 49,
      "outputs": [
        {
          "output_type": "execute_result",
          "data": {
            "text/plain": [
              "''"
            ],
            "application/vnd.google.colaboratory.intrinsic+json": {
              "type": "string"
            }
          },
          "metadata": {},
          "execution_count": 49
        }
      ]
    },
    {
      "cell_type": "code",
      "source": [
        "myfile.write('MY BRAND NEW TEXT')"
      ],
      "metadata": {
        "colab": {
          "base_uri": "https://localhost:8080/"
        },
        "id": "s8gyYq5iJHgd",
        "outputId": "08d1c3cd-b670-4be4-f0ad-e9ad4ead37ec"
      },
      "execution_count": 50,
      "outputs": [
        {
          "output_type": "execute_result",
          "data": {
            "text/plain": [
              "17"
            ]
          },
          "metadata": {},
          "execution_count": 50
        }
      ]
    },
    {
      "cell_type": "code",
      "source": [
        "myfile.seek(0)"
      ],
      "metadata": {
        "colab": {
          "base_uri": "https://localhost:8080/"
        },
        "id": "7jRTo284JQAU",
        "outputId": "7b2d7654-5734-4134-bfd9-fe36cceb1064"
      },
      "execution_count": 51,
      "outputs": [
        {
          "output_type": "execute_result",
          "data": {
            "text/plain": [
              "0"
            ]
          },
          "metadata": {},
          "execution_count": 51
        }
      ]
    },
    {
      "cell_type": "code",
      "source": [
        "myfile.read()"
      ],
      "metadata": {
        "colab": {
          "base_uri": "https://localhost:8080/",
          "height": 35
        },
        "id": "FwHEwU7gJTvp",
        "outputId": "f1784210-3ecb-4844-be42-246603cf96c7"
      },
      "execution_count": 52,
      "outputs": [
        {
          "output_type": "execute_result",
          "data": {
            "text/plain": [
              "'MY BRAND NEW TEXT'"
            ],
            "application/vnd.google.colaboratory.intrinsic+json": {
              "type": "string"
            }
          },
          "metadata": {},
          "execution_count": 52
        }
      ]
    },
    {
      "cell_type": "code",
      "source": [
        "myfile.close()"
      ],
      "metadata": {
        "id": "8r9VqVKlJUyz"
      },
      "execution_count": 53,
      "outputs": []
    },
    {
      "cell_type": "code",
      "source": [
        "#Read and append file\n",
        "myfile = open('text.txt','a+')"
      ],
      "metadata": {
        "id": "huqsLodTJfZ2"
      },
      "execution_count": 54,
      "outputs": []
    },
    {
      "cell_type": "code",
      "source": [
        "myfile.write('MY FIRST LINE IN A+ OPENING')"
      ],
      "metadata": {
        "colab": {
          "base_uri": "https://localhost:8080/"
        },
        "id": "vtq3wt0yKj4a",
        "outputId": "e8c4407f-2098-430f-e90d-6ba00bc7affa"
      },
      "execution_count": 55,
      "outputs": [
        {
          "output_type": "execute_result",
          "data": {
            "text/plain": [
              "27"
            ]
          },
          "metadata": {},
          "execution_count": 55
        }
      ]
    },
    {
      "cell_type": "code",
      "source": [
        "myfile.close()"
      ],
      "metadata": {
        "id": "v1ng7wqmKrsn"
      },
      "execution_count": 56,
      "outputs": []
    },
    {
      "cell_type": "code",
      "source": [
        "newfile = open('text.txt')"
      ],
      "metadata": {
        "id": "DxK_MbY-Ky4N"
      },
      "execution_count": 57,
      "outputs": []
    },
    {
      "cell_type": "code",
      "source": [
        "newfile.read()"
      ],
      "metadata": {
        "colab": {
          "base_uri": "https://localhost:8080/",
          "height": 35
        },
        "id": "ESPeF96nK15l",
        "outputId": "9a4c86cf-a14f-4be5-ad4b-0e2479133f25"
      },
      "execution_count": 58,
      "outputs": [
        {
          "output_type": "execute_result",
          "data": {
            "text/plain": [
              "'MY FIRST LINE IN A+ OPENING'"
            ],
            "application/vnd.google.colaboratory.intrinsic+json": {
              "type": "string"
            }
          },
          "metadata": {},
          "execution_count": 58
        }
      ]
    },
    {
      "cell_type": "code",
      "source": [
        "#Unable to write because the default mode is 'r'\n",
        "#Need to set the mode as 'w+' or 'a+'\n",
        "newfile.write('try to write something')"
      ],
      "metadata": {
        "colab": {
          "base_uri": "https://localhost:8080/",
          "height": 176
        },
        "id": "68VxOgUVK3cK",
        "outputId": "5763bf9e-a4b9-41b0-e675-fe5389dcd500"
      },
      "execution_count": 59,
      "outputs": [
        {
          "output_type": "error",
          "ename": "UnsupportedOperation",
          "evalue": "ignored",
          "traceback": [
            "\u001b[0;31m---------------------------------------------------------------------------\u001b[0m",
            "\u001b[0;31mUnsupportedOperation\u001b[0m                      Traceback (most recent call last)",
            "\u001b[0;32m<ipython-input-59-7f27a4d1fa66>\u001b[0m in \u001b[0;36m<cell line: 1>\u001b[0;34m()\u001b[0m\n\u001b[0;32m----> 1\u001b[0;31m \u001b[0mnewfile\u001b[0m\u001b[0;34m.\u001b[0m\u001b[0mwrite\u001b[0m\u001b[0;34m(\u001b[0m\u001b[0;34m'try to write something'\u001b[0m\u001b[0;34m)\u001b[0m\u001b[0;34m\u001b[0m\u001b[0;34m\u001b[0m\u001b[0m\n\u001b[0m",
            "\u001b[0;31mUnsupportedOperation\u001b[0m: not writable"
          ]
        }
      ]
    },
    {
      "cell_type": "code",
      "source": [
        "newfile.close()"
      ],
      "metadata": {
        "id": "XJcXrynqLF_d"
      },
      "execution_count": 60,
      "outputs": []
    },
    {
      "cell_type": "code",
      "source": [
        "myfile = open('text.txt',mode = 'a+')"
      ],
      "metadata": {
        "id": "2DFBbmh8LQ-D"
      },
      "execution_count": 65,
      "outputs": []
    },
    {
      "cell_type": "code",
      "source": [
        "myfile.write('This is an added line bacause i use a+ mode')"
      ],
      "metadata": {
        "colab": {
          "base_uri": "https://localhost:8080/"
        },
        "id": "sm0WiB9FLZCK",
        "outputId": "3333a8db-0208-4ca7-9aa3-4fe9b4e3d8df"
      },
      "execution_count": 66,
      "outputs": [
        {
          "output_type": "execute_result",
          "data": {
            "text/plain": [
              "43"
            ]
          },
          "metadata": {},
          "execution_count": 66
        }
      ]
    },
    {
      "cell_type": "code",
      "source": [
        "myfile.seek(0)"
      ],
      "metadata": {
        "colab": {
          "base_uri": "https://localhost:8080/"
        },
        "id": "AZEeFWS7LgKQ",
        "outputId": "bb137902-4e8f-400b-f811-4f8f65400109"
      },
      "execution_count": 67,
      "outputs": [
        {
          "output_type": "execute_result",
          "data": {
            "text/plain": [
              "0"
            ]
          },
          "metadata": {},
          "execution_count": 67
        }
      ]
    },
    {
      "cell_type": "code",
      "source": [
        "myfile.read()"
      ],
      "metadata": {
        "colab": {
          "base_uri": "https://localhost:8080/",
          "height": 35
        },
        "id": "d_RtwSBZLjCt",
        "outputId": "4dd08ffb-6ffc-4da3-9951-537bdccdde3e"
      },
      "execution_count": 68,
      "outputs": [
        {
          "output_type": "execute_result",
          "data": {
            "text/plain": [
              "'MY FIRST LINE IN A+ OPENINGThis is an added line bacause i use a+ mode'"
            ],
            "application/vnd.google.colaboratory.intrinsic+json": {
              "type": "string"
            }
          },
          "metadata": {},
          "execution_count": 68
        }
      ]
    },
    {
      "cell_type": "code",
      "source": [
        "myfile.write('\\nThis is a real new line,on the next line')"
      ],
      "metadata": {
        "colab": {
          "base_uri": "https://localhost:8080/"
        },
        "id": "jEZwT0FLLjz7",
        "outputId": "9eb1dfa0-4497-421b-e353-159dcbcb8bad"
      },
      "execution_count": 69,
      "outputs": [
        {
          "output_type": "execute_result",
          "data": {
            "text/plain": [
              "41"
            ]
          },
          "metadata": {},
          "execution_count": 69
        }
      ]
    },
    {
      "cell_type": "code",
      "source": [
        "myfile.seek(0)"
      ],
      "metadata": {
        "colab": {
          "base_uri": "https://localhost:8080/"
        },
        "id": "ybE7FVrmLvIh",
        "outputId": "d0059101-2ef2-4581-ecf9-36c1d2b5b4f4"
      },
      "execution_count": 71,
      "outputs": [
        {
          "output_type": "execute_result",
          "data": {
            "text/plain": [
              "0"
            ]
          },
          "metadata": {},
          "execution_count": 71
        }
      ]
    },
    {
      "cell_type": "code",
      "source": [
        "myfile.read()"
      ],
      "metadata": {
        "colab": {
          "base_uri": "https://localhost:8080/",
          "height": 52
        },
        "id": "yiJHHgD_Lxqf",
        "outputId": "ec0fdad2-812b-45a5-d397-058110760a58"
      },
      "execution_count": 72,
      "outputs": [
        {
          "output_type": "execute_result",
          "data": {
            "text/plain": [
              "'MY FIRST LINE IN A+ OPENINGThis is an added line bacause i use a+ mode\\nThis is a real new line,on the next line'"
            ],
            "application/vnd.google.colaboratory.intrinsic+json": {
              "type": "string"
            }
          },
          "metadata": {},
          "execution_count": 72
        }
      ]
    },
    {
      "cell_type": "code",
      "source": [
        "myfile.close()"
      ],
      "metadata": {
        "id": "vIIHykfyMOS6"
      },
      "execution_count": 73,
      "outputs": []
    },
    {
      "cell_type": "code",
      "source": [
        "#Will close the file automatically while using this syntax\n",
        "with open('text.txt','r') as mynewfile:\n",
        "  myvariable = mynewfile.readlines()"
      ],
      "metadata": {
        "id": "w7zFqfGEL3SZ"
      },
      "execution_count": 76,
      "outputs": []
    },
    {
      "cell_type": "code",
      "source": [
        "myvariable"
      ],
      "metadata": {
        "colab": {
          "base_uri": "https://localhost:8080/"
        },
        "id": "iXcuWYz3MVcn",
        "outputId": "c3da4f59-fab0-4370-887a-0348ba9c0e38"
      },
      "execution_count": 77,
      "outputs": [
        {
          "output_type": "execute_result",
          "data": {
            "text/plain": [
              "['MY FIRST LINE IN A+ OPENINGThis is an added line bacause i use a+ mode\\n',\n",
              " 'This is a real new line,on the next line']"
            ]
          },
          "metadata": {},
          "execution_count": 77
        }
      ]
    },
    {
      "cell_type": "code",
      "source": [
        "for line in myvariable:\n",
        "  print(line)"
      ],
      "metadata": {
        "colab": {
          "base_uri": "https://localhost:8080/"
        },
        "id": "2aEE0GhsMW50",
        "outputId": "29606a38-b857-4643-e505-cac8ed8a26b5"
      },
      "execution_count": 80,
      "outputs": [
        {
          "output_type": "stream",
          "name": "stdout",
          "text": [
            "MY FIRST LINE IN A+ OPENINGThis is an added line bacause i use a+ mode\n",
            "\n",
            "This is a real new line,on the next line\n"
          ]
        }
      ]
    }
  ]
}